{
  "cells": [
    {
      "cell_type": "markdown",
      "metadata": {
        "id": "Tce3stUlHN0L"
      },
      "source": [
        "##### Copyright 2024 Google LLC."
      ]
    },
    {
      "cell_type": "code",
      "execution_count": 20,
      "metadata": {
        "cellView": "form",
        "id": "tuOe1ymfHZPu"
      },
      "outputs": [],
      "source": [
        "#@title Licensed under the Apache License, Version 2.0 (the \"License\");\n",
        "# you may not use this file except in compliance with the License.\n",
        "# You may obtain a copy of the License at\n",
        "#\n",
        "# https://www.apache.org/licenses/LICENSE-2.0\n",
        "#\n",
        "# Unless required by applicable law or agreed to in writing, software\n",
        "# distributed under the License is distributed on an \"AS IS\" BASIS,\n",
        "# WITHOUT WARRANTIES OR CONDITIONS OF ANY KIND, either express or implied.\n",
        "# See the License for the specific language governing permissions and\n",
        "# limitations under the License."
      ]
    },
    {
      "cell_type": "markdown",
      "metadata": {
        "id": "-QhPWE1lwZHH"
      },
      "source": [
        "# Gemini API Python quickstart"
      ]
    },
    {
      "cell_type": "markdown",
      "metadata": {
        "id": "fa7c47ae6451"
      },
      "source": [
        "<table class=\"tfo-notebook-buttons\" align=\"left\">\n",
        "  <td>\n",
        "    <a target=\"_blank\" href=\"https://ai.google.dev/tutorials/quickstart_colab\"><img src=\"https://ai.google.dev/static/site-assets/images/docs/notebook-site-button.png\" height=\"32\" width=\"32\" />View on Google AI</a>\n",
        "  </td>\n",
        "  <td>\n",
        "    <a target=\"_blank\" href=\"https://colab.research.google.com/github/google/generative-ai-docs/blob/main/site/en/tutorials/quickstart_colab.ipynb\"><img src=\"https://www.tensorflow.org/images/colab_logo_32px.png\" />Run in Google Colab</a>\n",
        "  </td>\n",
        "  <td>\n",
        "    <a target=\"_blank\" href=\"https://github.com/google/generative-ai-docs/blob/main/site/en/tutorials/quickstart_colab.ipynb\"><img src=\"https://www.tensorflow.org/images/GitHub-Mark-32px.png\" />View source on GitHub</a>\n",
        "  </td>\n",
        "</table>"
      ]
    },
    {
      "cell_type": "markdown",
      "metadata": {
        "id": "db29b8d4247e"
      },
      "source": [
        "This tutorial shows you how to get started with the Gemini API using the Python SDK."
      ]
    },
    {
      "cell_type": "markdown",
      "metadata": {
        "id": "NNNg43Ymw54e"
      },
      "source": [
        "## Prerequisites\n",
        "\n",
        "You can run this tutorial in Google Colab, which doesn't require additional environment configuration.\n",
        "\n",
        "Alternatively, to complete this quickstart locally, see the Python guidance in [Get started with the Gemini API](https://ai.google.dev/tutorials/quickstart)."
      ]
    },
    {
      "cell_type": "markdown",
      "metadata": {
        "id": "kHkHARdb1ZID"
      },
      "source": [
        "## Install the SDK\n",
        "\n",
        "The Python SDK for the Gemini API is contained in the [`google-generativeai`](https://pypi.org/project/google-generativeai/) package. Install the dependency using pip:"
      ]
    },
    {
      "cell_type": "code",
      "execution_count": 2,
      "metadata": {
        "id": "J6Pd9SFJ1yVi"
      },
      "outputs": [],
      "source": [
        "!pip install -q -U google-generativeai"
      ]
    },
    {
      "cell_type": "markdown",
      "metadata": {
        "id": "EeMCtmx9ykyx"
      },
      "source": [
        "## Set up your API key\n",
        "\n",
        "To use the Gemini API, you'll need an API key. If you don't already have one, create a key in Google AI Studio.\n",
        "\n",
        "<a class=\"button\" href=\"https://aistudio.google.com/app/apikey\" target=\"_blank\" rel=\"noopener noreferrer\">Get an API key</a>\n",
        "\n",
        "In Colab, add the key to the secrets manager under the \"🔑\" in the left panel. Give it the name `GOOGLE_API_KEY`. Then pass the key to the SDK:"
      ]
    },
    {
      "cell_type": "code",
      "execution_count": 3,
      "metadata": {
        "id": "HTiaTu6O1LRC"
      },
      "outputs": [],
      "source": [
        "# Import the Python SDK\n",
        "import google.generativeai as genai\n",
        "from google.colab import userdata\n",
        "api_key = userdata.get(\"SECRET_KEY\")\n",
        "\n",
        "\n",
        "genai.configure(api_key=api_key)"
      ]
    },
    {
      "cell_type": "code",
      "source": [
        "model = genai.GenerativeModel(\"gemini-pro\")"
      ],
      "metadata": {
        "id": "YdMLlU3Qelf6"
      },
      "execution_count": 11,
      "outputs": []
    },
    {
      "cell_type": "code",
      "source": [
        "response = model.generate_content(\"write a story about a magic backpack.\")\n",
        "print(response.text)"
      ],
      "metadata": {
        "colab": {
          "base_uri": "https://localhost:8080/",
          "height": 332
        },
        "id": "qGvTZON2e_xd",
        "outputId": "36d5dc7e-e3d3-4c0a-80d7-54ae90d53a3e"
      },
      "execution_count": 12,
      "outputs": [
        {
          "output_type": "stream",
          "name": "stdout",
          "text": [
            "In the quaint town of Willow Creek, amidst the towering oak trees and gurgling streams, there lived a young girl named Anya. With twinkling eyes and an unquenchable thirst for adventure, she yearned for something extraordinary to fill her ordinary days.\n",
            "\n",
            "One sunny morning, as Anya skipped through the meadow behind her house, she stumbled upon a peculiar object hidden beneath a thick bush. Curiosity got the better of her, and she reached down to retrieve it.\n",
            "\n",
            "To her astonishment, it was a backpack—but unlike any she had ever seen before. Its fabric shimmered with an ethereal glow, and intricate designs seemed to dance upon its surface. As Anya lifted it, she felt a surge of energy coursing through her veins.\n",
            "\n",
            "Intrigued, she unzipped the backpack to reveal a hidden compartment. Inside, she discovered an assortment of mystical items: a shimmering wand, a compass that pointed to forgotten realms, and a book filled with ancient secrets. Anya's heart skipped a beat as she realized the true nature of her find—this was no ordinary backpack; it was a magical one.\n",
            "\n",
            "With newfound excitement, Anya embarked on countless adventures with her enchanted companion. The wand conjured illusions, the compass led her to hidden treasures, and the book unveiled a world of knowledge and wonder. She scaled towering mountains, explored uncharted forests, and even befriended talking animals.\n",
            "\n",
            "One day, as Anya and her backpack were trekking through a dense jungle, they encountered a group of villagers who had been terrorized by a wicked sorceress. Anya's heart sank as she witnessed their despair, and she knew she had to do something to help.\n",
            "\n",
            "Drawing upon the powers of her backpack, Anya summoned a protective barrier around the village. The sorceress's spells bounced harmlessly off the shield, and the villagers erupted in cheers of joy. From that day forward, Anya became known as the \"Protector of Willow Creek,\" using her magical backpack to safeguard her town and bring smiles to its faces.\n",
            "\n",
            "As the sun began to set on Anya's magical adventures, she realized that the true wonder lay not only in the extraordinary powers of her backpack but in the memories she had created with it. The magic it held within was not just in its contents but also in the love, friendship, and adventures it had brought into her life.\n",
            "\n",
            "And so, the legend of Anya and her magic backpack was passed down through generations, inspiring countless young hearts to seek out their own extraordinary journeys, filled with both wonder and the unwavering power of imagination.\n"
          ]
        }
      ]
    },
    {
      "cell_type": "markdown",
      "source": [
        "Listar os modelos disponíveis"
      ],
      "metadata": {
        "id": "XZCdmDKV4uGN"
      }
    },
    {
      "cell_type": "code",
      "source": [
        "for m in genai.list_models():\n",
        "  if 'generateContent' in m.supported_generation_methods:\n",
        "    print(m.name)"
      ],
      "metadata": {
        "colab": {
          "base_uri": "https://localhost:8080/",
          "height": 139
        },
        "id": "91GSIh714fnK",
        "outputId": "cc0004bb-87b2-473c-b66a-886626a1ae52"
      },
      "execution_count": 4,
      "outputs": [
        {
          "output_type": "stream",
          "name": "stdout",
          "text": [
            "models/gemini-1.0-pro\n",
            "models/gemini-1.0-pro-001\n",
            "models/gemini-1.0-pro-latest\n",
            "models/gemini-1.0-pro-vision-latest\n",
            "models/gemini-1.5-pro-latest\n",
            "models/gemini-pro\n",
            "models/gemini-pro-vision\n"
          ]
        }
      ]
    },
    {
      "cell_type": "code",
      "source": [
        "generation_config = {\n",
        "    \"candidate_count\": 1,\n",
        "    \"temperature\": 0.5,\n",
        "}"
      ],
      "metadata": {
        "id": "NWCuNgrV7Pn3"
      },
      "execution_count": 5,
      "outputs": []
    },
    {
      "cell_type": "code",
      "source": [
        "safety_settings = {\n",
        "  \"HARASSMENT\": \"BLOCK_NOME\",\n",
        "  \"HATE\": \"BLOCK_NOME\",\n",
        "  \"SEXUAL\": \"BLOCK_NOME\",\n",
        "  \"DANGEROUS\": \"BLOCK_NOME\"\n",
        "}"
      ],
      "metadata": {
        "id": "zaNLx2WP7wa0"
      },
      "execution_count": 13,
      "outputs": []
    },
    {
      "cell_type": "code",
      "source": [
        "response = model.generate_content(\"Vamos aprender conteúdo sobre IA. De-me sugestões.\")\n",
        "print(response.text)"
      ],
      "metadata": {
        "colab": {
          "base_uri": "https://localhost:8080/",
          "height": 697
        },
        "id": "aTBBYdOrTuU9",
        "outputId": "bb5d3b6a-e3e0-4772-9bc9-243c653c2537"
      },
      "execution_count": 15,
      "outputs": [
        {
          "output_type": "stream",
          "name": "stdout",
          "text": [
            "**Fundamentos da IA**\n",
            "\n",
            "* História e evolução da IA\n",
            "* Tipos de IA: aprendizado de máquina, aprendizado profundo, redes neurais\n",
            "* Algoritmos de IA comuns (regressão linear, árvores de decisão, SVM)\n",
            "\n",
            "**Aprendizado de Máquina**\n",
            "\n",
            "* Aprendizado supervisionado x não supervisionado\n",
            "* Técnicas de aprendizado supervisionado (regressão, classificação)\n",
            "* Técnicas de aprendizado não supervisionado (clustering, redução de dimensionalidade)\n",
            "* Avaliação e validação de modelos de aprendizado de máquina\n",
            "\n",
            "**Aprendizado Profundo**\n",
            "\n",
            "* Redes neurais e suas arquiteturas (convolucionais, recorrentes)\n",
            "* Treinamento e otimização de redes neurais\n",
            "* Aplicações de aprendizado profundo (processamento de imagem, reconhecimento de fala)\n",
            "\n",
            "**Aplicações de IA**\n",
            "\n",
            "* IA na saúde: diagnóstico de imagem, triagem de câncer\n",
            "* IA em negócios: análise preditiva, otimização de processos\n",
            "* IA na educação: tutoria personalizada, avaliação de tarefas\n",
            "* IA em tecnologia: reconhecimento de padrões, processamento de linguagem natural\n",
            "\n",
            "**Ética e Responsabilidade da IA**\n",
            "\n",
            "* Preconceitos e vieses em sistemas de IA\n",
            "* Implicações éticas do uso da IA (privacidade, responsabilidade)\n",
            "* Princípios para o desenvolvimento e uso responsável de IA\n",
            "\n",
            "**Recursos Adicionais**\n",
            "\n",
            "* **Cursos online:** Coursera, edX, Udacity\n",
            "* **Livros:** \"Aprendizado de Máquina\" por Ethem Alpaydin, \"Inteligência Artificial Moderna\" por Stuart Russell e Peter Norvig\n",
            "* **Revistas científicas:** IEEE Transactions on Neural Networks and Learning Systems, Journal of Machine Learning Research\n",
            "* **Conferências:** NeurIPS, ICML, AAAI\n"
          ]
        }
      ]
    },
    {
      "cell_type": "code",
      "source": [
        "chat = model.start_chat(history=[])"
      ],
      "metadata": {
        "id": "qFuRLEfRiP5O"
      },
      "execution_count": 16,
      "outputs": []
    },
    {
      "cell_type": "code",
      "source": [
        "prompt = input(\"\\n Esperando prompt:\")\n",
        "while prompt != \"fim\":\n",
        "  response = chat.send_message(prompt)\n",
        "  print(\"Resposta: \", response.text, \"\\n\")\n",
        "  prompt = input(\"Esperando prompt:\")\n"
      ],
      "metadata": {
        "colab": {
          "base_uri": "https://localhost:8080/",
          "height": 104
        },
        "id": "v3LrX5lniup6",
        "outputId": "189c9cc5-434f-43a8-ae51-ca4ce481a962"
      },
      "execution_count": 20,
      "outputs": [
        {
          "name": "stdout",
          "output_type": "stream",
          "text": [
            "\n",
            " Esperando prompt:que horas são\n",
            "Resposta:  15h58min (horário de Brasília) \n",
            "\n",
            "Esperando prompt:fim\n"
          ]
        }
      ]
    },
    {
      "cell_type": "code",
      "source": [
        "# Melhorando a visualização\n",
        "# Código disponível em https://ai.google/dev/tutorials/python_quickstart#import_packages\n",
        "\n",
        "import textwrap\n",
        "\n",
        "from IPython.display import display\n",
        "from IPython.display import Markdown\n",
        "\n",
        "def to_markdown(text):\n",
        "  \"\"\"Converts plain text to markdown format.\"\"\"\n",
        "  text = text.replace('`', '\\`')\n",
        "  return Markdown(textwrap.indent(text, '> ', predicate=lambda _: True))\n",
        "\n",
        "# Imprimindo o histórico\n",
        "for message in chat.history:\n",
        "  display(to_markdown(f\"**{message.role}:** {message.parts[0].text}\"))\n",
        "  print()"
      ],
      "metadata": {
        "colab": {
          "base_uri": "https://localhost:8080/",
          "height": 393
        },
        "id": "mJ4HndbbmQ8p",
        "outputId": "29450b7c-f5e5-4f5c-d27c-12d7358b54d4"
      },
      "execution_count": 21,
      "outputs": [
        {
          "output_type": "display_data",
          "data": {
            "text/plain": [
              "<IPython.core.display.Markdown object>"
            ],
            "text/markdown": "> **user:** Qual a capital do Japão"
          },
          "metadata": {}
        },
        {
          "output_type": "stream",
          "name": "stdout",
          "text": [
            "\n"
          ]
        },
        {
          "output_type": "display_data",
          "data": {
            "text/plain": [
              "<IPython.core.display.Markdown object>"
            ],
            "text/markdown": "> **model:** Tóquio"
          },
          "metadata": {}
        },
        {
          "output_type": "stream",
          "name": "stdout",
          "text": [
            "\n"
          ]
        },
        {
          "output_type": "display_data",
          "data": {
            "text/plain": [
              "<IPython.core.display.Markdown object>"
            ],
            "text/markdown": "> **user:** que dia é hoje"
          },
          "metadata": {}
        },
        {
          "output_type": "stream",
          "name": "stdout",
          "text": [
            "\n"
          ]
        },
        {
          "output_type": "display_data",
          "data": {
            "text/plain": [
              "<IPython.core.display.Markdown object>"
            ],
            "text/markdown": "> **model:** 18 de fevereiro de 2023"
          },
          "metadata": {}
        },
        {
          "output_type": "stream",
          "name": "stdout",
          "text": [
            "\n"
          ]
        },
        {
          "output_type": "display_data",
          "data": {
            "text/plain": [
              "<IPython.core.display.Markdown object>"
            ],
            "text/markdown": "> **user:** que horas são"
          },
          "metadata": {}
        },
        {
          "output_type": "stream",
          "name": "stdout",
          "text": [
            "\n"
          ]
        },
        {
          "output_type": "display_data",
          "data": {
            "text/plain": [
              "<IPython.core.display.Markdown object>"
            ],
            "text/markdown": "> **model:** 15h58min (horário de Brasília)"
          },
          "metadata": {}
        },
        {
          "output_type": "stream",
          "name": "stdout",
          "text": [
            "\n"
          ]
        }
      ]
    }
  ],
  "metadata": {
    "colab": {
      "name": "quickstart_colab.ipynb",
      "provenance": []
    },
    "kernelspec": {
      "display_name": "Python 3",
      "name": "python3"
    }
  },
  "nbformat": 4,
  "nbformat_minor": 0
}